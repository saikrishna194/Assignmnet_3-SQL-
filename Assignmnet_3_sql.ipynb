{
  "nbformat": 4,
  "nbformat_minor": 0,
  "metadata": {
    "colab": {
      "name": "Assignmnet_3 sql",
      "provenance": []
    },
    "kernelspec": {
      "name": "python3",
      "display_name": "Python 3"
    },
    "language_info": {
      "name": "python"
    }
  },
  "cells": [
    {
      "cell_type": "markdown",
      "source": [
        "1.Write an SQL query to print the FIRST_NAME from Worker table after removing white spaces from the right side.\n",
        "\n",
        "**Ans:**SELECT RTRIM(FIRST_NAME) FROM Worker;"
      ],
      "metadata": {
        "id": "HEzZuwMSI_-Q"
      }
    },
    {
      "cell_type": "markdown",
      "source": [
        "2.Write an SQL query that fetches the unique values of DEPARTMENT from Worker table and prints its length.\n",
        "\n",
        "**Ans:**SELECT DISTINCT(DEPARTMENT),LEN(DEPARTMENT) FROM Worker;"
      ],
      "metadata": {
        "id": "Wg0lavtWJE-x"
      }
    },
    {
      "cell_type": "markdown",
      "source": [
        "3.Write an SQL query to fetch nth max salaries from a table.\n",
        "\n",
        "**Ans:**SELECT DISTINCT(Salary) FROM Worker ORDER BY Salary DESC LIMIT 1 OFFSET n;"
      ],
      "metadata": {
        "id": "NLdmwQd7JKBQ"
      }
    },
    {
      "cell_type": "markdown",
      "source": [
        ""
      ],
      "metadata": {
        "id": "jygoFWhQJQV1"
      }
    }
  ]
}